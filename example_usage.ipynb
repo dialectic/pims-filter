{
 "cells": [
  {
   "cell_type": "markdown",
   "metadata": {},
   "source": [
    "This notebook is to demonstrate the usage of the `PIMS_Filter` class from `pims-filter.py`."
   ]
  },
  {
   "cell_type": "code",
   "execution_count": 1,
   "metadata": {},
   "outputs": [],
   "source": [
    "%matplotlib widget"
   ]
  },
  {
   "cell_type": "markdown",
   "metadata": {},
   "source": [
    "Load the class."
   ]
  },
  {
   "cell_type": "code",
   "execution_count": 2,
   "metadata": {},
   "outputs": [],
   "source": [
    "module_file = __import__(\"pims-filter\") # the hyphen requires this syntax\n",
    "PIMS_Filter = module_file.PIMS_Filter # rid us of extra name"
   ]
  },
  {
   "cell_type": "markdown",
   "metadata": {
    "heading_collapsed": true
   },
   "source": [
    "## Basic usage"
   ]
  },
  {
   "cell_type": "markdown",
   "metadata": {
    "hidden": true
   },
   "source": [
    "Create an instance of projection dimension `2`."
   ]
  },
  {
   "cell_type": "code",
   "execution_count": 3,
   "metadata": {
    "hidden": true
   },
   "outputs": [],
   "source": [
    "pf = PIMS_Filter(\n",
    "  adjacency_file='../dialectica-pimsifier/adjacency_train.json', # PIMS structure\n",
    "  n_PC = 2 # projection dimension\n",
    ")"
   ]
  },
  {
   "cell_type": "markdown",
   "metadata": {
    "hidden": true
   },
   "source": [
    "Call `main` method to do eigendecompositon, projection, etc."
   ]
  },
  {
   "cell_type": "code",
   "execution_count": 4,
   "metadata": {
    "hidden": true
   },
   "outputs": [
    {
     "name": "stdout",
     "output_type": "stream",
     "text": [
      "  - truncated evals: [5.618904  3.9464943]\n",
      "  - P shape: (2, 1173)\n"
     ]
    }
   ],
   "source": [
    "pf.main()"
   ]
  },
  {
   "cell_type": "markdown",
   "metadata": {
    "hidden": true
   },
   "source": [
    "Plot the projected nodes."
   ]
  },
  {
   "cell_type": "code",
   "execution_count": 5,
   "metadata": {
    "hidden": true,
    "scrolled": true
   },
   "outputs": [
    {
     "data": {
      "application/vnd.jupyter.widget-view+json": {
       "model_id": "c7d52239ab414fbdb9c50c5de12a3076",
       "version_major": 2,
       "version_minor": 0
      },
      "text/plain": [
       "Canvas(toolbar=Toolbar(toolitems=[('Home', 'Reset original view', 'home', 'home'), ('Back', 'Back to previous …"
      ]
     },
     "metadata": {},
     "output_type": "display_data"
    }
   ],
   "source": [
    "pf.plot()"
   ]
  },
  {
   "cell_type": "markdown",
   "metadata": {},
   "source": [
    "## Projecting down to different numbers of dimensions"
   ]
  },
  {
   "cell_type": "markdown",
   "metadata": {},
   "source": [
    "Now we want to project down to more dimensions. Let's make a list of instances."
   ]
  },
  {
   "cell_type": "code",
   "execution_count": 6,
   "metadata": {},
   "outputs": [
    {
     "name": "stdout",
     "output_type": "stream",
     "text": [
      "  - truncated evals: [5.6188917]\n",
      "  - P shape: (1, 1173)\n",
      "  - truncated evals: [5.6191287 3.9465744]\n",
      "  - P shape: (2, 1173)\n",
      "  - truncated evals: [5.619116  3.9465263 2.6106474]\n",
      "  - P shape: (3, 1173)\n",
      "  - truncated evals: [5.618899  3.9464488 2.6106281 1.8808523]\n",
      "  - P shape: (4, 1173)\n",
      "  - truncated evals: [5.618626  3.9463384 2.6105723 1.8808751 1.6526974]\n",
      "  - P shape: (5, 1173)\n",
      "  - truncated evals: [5.6190233 3.946161  2.610593  1.8808655 1.6526036 1.633209 ]\n",
      "  - P shape: (6, 1173)\n"
     ]
    }
   ],
   "source": [
    "dims = [1,2,3,4,5,6]\n",
    "pfs = []\n",
    "for dim in dims:\n",
    "  pf = PIMS_Filter(\n",
    "    adjacency_file='../dialectica-pimsifier/adjacency_train.json', # PIMS structure\n",
    "    n_PC = dim # projection dimension\n",
    "  )\n",
    "  pf.main() # run\n",
    "  pfs.append(\n",
    "    pf\n",
    "  )"
   ]
  },
  {
   "cell_type": "markdown",
   "metadata": {},
   "source": [
    "Now we have a `list` of PIMS filters!"
   ]
  },
  {
   "cell_type": "code",
   "execution_count": 7,
   "metadata": {},
   "outputs": [
    {
     "data": {
      "text/plain": [
       "[<pims-filter.PIMS_Filter at 0x1285a4ef0>,\n",
       " <pims-filter.PIMS_Filter at 0x12839ab00>,\n",
       " <pims-filter.PIMS_Filter at 0x118d50b38>,\n",
       " <pims-filter.PIMS_Filter at 0x12843fb38>,\n",
       " <pims-filter.PIMS_Filter at 0x12c67a1d0>,\n",
       " <pims-filter.PIMS_Filter at 0x12c67a278>]"
      ]
     },
     "execution_count": 7,
     "metadata": {},
     "output_type": "execute_result"
    }
   ],
   "source": [
    "pfs"
   ]
  },
  {
   "cell_type": "markdown",
   "metadata": {},
   "source": [
    "Plot each plottable dimensionality."
   ]
  },
  {
   "cell_type": "code",
   "execution_count": 8,
   "metadata": {},
   "outputs": [
    {
     "name": "stdout",
     "output_type": "stream",
     "text": [
      "Cannot plot 1 dimensions.\n"
     ]
    },
    {
     "data": {
      "application/vnd.jupyter.widget-view+json": {
       "model_id": "508c1693206e4e14901065230814ca51",
       "version_major": 2,
       "version_minor": 0
      },
      "text/plain": [
       "Canvas(toolbar=Toolbar(toolitems=[('Home', 'Reset original view', 'home', 'home'), ('Back', 'Back to previous …"
      ]
     },
     "metadata": {},
     "output_type": "display_data"
    },
    {
     "data": {
      "application/vnd.jupyter.widget-view+json": {
       "model_id": "b717608f02c7402d887d98685ff49374",
       "version_major": 2,
       "version_minor": 0
      },
      "text/plain": [
       "Canvas(toolbar=Toolbar(toolitems=[('Home', 'Reset original view', 'home', 'home'), ('Back', 'Back to previous …"
      ]
     },
     "metadata": {},
     "output_type": "display_data"
    },
    {
     "name": "stdout",
     "output_type": "stream",
     "text": [
      "Cannot plot 4 dimensions.\n",
      "Cannot plot 5 dimensions.\n",
      "Cannot plot 6 dimensions.\n"
     ]
    }
   ],
   "source": [
    "for pf in pfs:\n",
    "  pf.plot()"
   ]
  }
 ],
 "metadata": {
  "kernelspec": {
   "display_name": "Python 3",
   "language": "python",
   "name": "python3"
  },
  "language_info": {
   "codemirror_mode": {
    "name": "ipython",
    "version": 3
   },
   "file_extension": ".py",
   "mimetype": "text/x-python",
   "name": "python",
   "nbconvert_exporter": "python",
   "pygments_lexer": "ipython3",
   "version": "3.7.3"
  },
  "varInspector": {
   "cols": {
    "lenName": 16,
    "lenType": 16,
    "lenVar": 40
   },
   "kernels_config": {
    "python": {
     "delete_cmd_postfix": "",
     "delete_cmd_prefix": "del ",
     "library": "var_list.py",
     "varRefreshCmd": "print(var_dic_list())"
    },
    "r": {
     "delete_cmd_postfix": ") ",
     "delete_cmd_prefix": "rm(",
     "library": "var_list.r",
     "varRefreshCmd": "cat(var_dic_list()) "
    }
   },
   "types_to_exclude": [
    "module",
    "function",
    "builtin_function_or_method",
    "instance",
    "_Feature"
   ],
   "window_display": false
  }
 },
 "nbformat": 4,
 "nbformat_minor": 2
}
