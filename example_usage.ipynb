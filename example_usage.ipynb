{
 "cells": [
  {
   "cell_type": "markdown",
   "metadata": {},
   "source": [
    "This notebook is to demonstrate the usage of the `PIMS_Filter` class from `pims-filter.py`."
   ]
  },
  {
   "cell_type": "markdown",
   "metadata": {},
   "source": [
    "## Basic usage"
   ]
  },
  {
   "cell_type": "markdown",
   "metadata": {},
   "source": [
    "Load the class."
   ]
  },
  {
   "cell_type": "code",
   "execution_count": 1,
   "metadata": {},
   "outputs": [],
   "source": [
    "module_file = __import__(\"pims-filter\") # the hyphen requires this syntax\n",
    "PIMS_Filter = module_file.PIMS_Filter # rid us of extra name"
   ]
  },
  {
   "cell_type": "markdown",
   "metadata": {},
   "source": [
    "Create an instance of projection dimension `2`."
   ]
  },
  {
   "cell_type": "code",
   "execution_count": 2,
   "metadata": {},
   "outputs": [],
   "source": [
    "pf = PIMS_Filter(\n",
    "  adjacency_file='../dialectica-pimsifier/adjacency_train.json', # PIMS structure\n",
    "  n_PC = 2 # projection dimension\n",
    ")"
   ]
  },
  {
   "cell_type": "markdown",
   "metadata": {},
   "source": [
    "Call `main` method to do eigendecompositon, projection, etc."
   ]
  },
  {
   "cell_type": "code",
   "execution_count": 3,
   "metadata": {},
   "outputs": [
    {
     "name": "stdout",
     "output_type": "stream",
     "text": [
      "  - truncated evals: [5.618904  3.9464943]\n",
      "  - P shape: (2, 1173)\n"
     ]
    }
   ],
   "source": [
    "pf.main()"
   ]
  },
  {
   "cell_type": "markdown",
   "metadata": {},
   "source": [
    "Plot the projected nodes."
   ]
  },
  {
   "cell_type": "code",
   "execution_count": 4,
   "metadata": {
    "scrolled": true
   },
   "outputs": [
    {
     "data": {
      "image/png": "[encoded data removed]",
      "text/plain": [
       "<Figure size 432x288 with 1 Axes>"
      ]
     },
     "metadata": {
      "needs_background": "light"
     },
     "output_type": "display_data"
    }
   ],
   "source": [
    "pf.plot()"
   ]
  },
  {
   "cell_type": "markdown",
   "metadata": {},
   "source": [
    "## Projecting down to different numbers of dimensions"
   ]
  },
  {
   "cell_type": "markdown",
   "metadata": {},
   "source": [
    "Now we want to project down to more dimensions. Let's make a list of instances."
   ]
  },
  {
   "cell_type": "code",
   "execution_count": 14,
   "metadata": {},
   "outputs": [
    {
     "name": "stdout",
     "output_type": "stream",
     "text": [
      "  - truncated evals: [5.6186686]\n",
      "  - P shape: (1, 1173)\n",
      "  - truncated evals: [5.6186905 3.9463906]\n",
      "  - P shape: (2, 1173)\n",
      "  - truncated evals: [5.619061  3.9464743 2.611615 ]\n",
      "  - P shape: (3, 1173)\n",
      "  - truncated evals: [5.6189556 3.9464023 2.6105902 1.8809011]\n",
      "  - P shape: (4, 1173)\n",
      "  - truncated evals: [5.6189404 3.9464808 2.6106136 1.8808403 1.6526701]\n",
      "  - P shape: (5, 1173)\n",
      "  - truncated evals: [5.618957  3.946485  2.610609  1.8808795 1.6526569 1.6332132]\n",
      "  - P shape: (6, 1173)\n"
     ]
    }
   ],
   "source": [
    "dims = [1,2,3,4,5,6]\n",
    "pfs = []\n",
    "for dim in dims:\n",
    "  pf = PIMS_Filter(\n",
    "    adjacency_file='../dialectica-pimsifier/adjacency_train.json', # PIMS structure\n",
    "    n_PC = dim # projection dimension\n",
    "  )\n",
    "  pf.main() # run\n",
    "  pfs.append(\n",
    "    pf\n",
    "  )"
   ]
  },
  {
   "cell_type": "markdown",
   "metadata": {},
   "source": [
    "Now we have a `list` of PIMS filters!"
   ]
  },
  {
   "cell_type": "code",
   "execution_count": 16,
   "metadata": {},
   "outputs": [
    {
     "data": {
      "text/plain": [
       "[<pims-filter.PIMS_Filter at 0x10430e208>,\n",
       " <pims-filter.PIMS_Filter at 0x122aaf5c0>,\n",
       " <pims-filter.PIMS_Filter at 0x122a690f0>,\n",
       " <pims-filter.PIMS_Filter at 0x1229cec50>,\n",
       " <pims-filter.PIMS_Filter at 0x1229ce2e8>,\n",
       " <pims-filter.PIMS_Filter at 0x1229cea90>]"
      ]
     },
     "execution_count": 16,
     "metadata": {},
     "output_type": "execute_result"
    }
   ],
   "source": [
    "pfs"
   ]
  }
 ],
 "metadata": {
  "kernelspec": {
   "display_name": "Python 3",
   "language": "python",
   "name": "python3"
  },
  "varInspector": {
   "cols": {
    "lenName": 16,
    "lenType": 16,
    "lenVar": 40
   },
   "kernels_config": {
    "python": {
     "delete_cmd_postfix": "",
     "delete_cmd_prefix": "del ",
     "library": "var_list.py",
     "varRefreshCmd": "print(var_dic_list())"
    },
    "r": {
     "delete_cmd_postfix": ") ",
     "delete_cmd_prefix": "rm(",
     "library": "var_list.r",
     "varRefreshCmd": "cat(var_dic_list()) "
    }
   },
   "types_to_exclude": [
    "module",
    "function",
    "builtin_function_or_method",
    "instance",
    "_Feature"
   ],
   "window_display": false
  }
 },
 "nbformat": 4,
 "nbformat_minor": 2
}
